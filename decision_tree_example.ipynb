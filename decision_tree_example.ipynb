{
 "cells": [
  {
   "cell_type": "markdown",
   "metadata": {
    "colab_type": "text",
    "id": "6AEgIi4jr3Ix"
   },
   "source": [
    "# Predicción Click-Through con Random Forest"
   ]
  },
  {
   "cell_type": "code",
   "execution_count": 1,
   "metadata": {
    "colab": {},
    "colab_type": "code",
    "id": "4jESeJubr3I0"
   },
   "outputs": [],
   "source": [
    "import csv\n",
    "\n",
    "def read_ad_click_data(filename, n, offset=0):\n",
    "    \"\"\" Read training instances from the Click-Through Rate Prediction dataset\n",
    "       (https://www.kaggle.com/c/avazu-ctr-prediction)\n",
    "    Args:\n",
    "        filename - Name of file to read instances from\n",
    "        n - Number of instances to read\n",
    "        offset - Instance number to begin reading from\n",
    "    Returns:\n",
    "        X_dict, y - Features of the read instances (as a dictionary) and corresponding labels (as a list)\n",
    "        \n",
    "    Note:\n",
    "        We exclude features 'id', 'hour', 'device_id', and 'device_ip' from the dataset in order to avoid\n",
    "        a huge number of features coming from the OHE of these categorical attributes\n",
    "    \"\"\"\n",
    "    X_dict, y = [], []\n",
    "    \n",
    "    with open(filename, 'r') as csvfile:\n",
    "        reader = csv.DictReader(csvfile)\n",
    "        \n",
    "        for i in range(offset):\n",
    "            next(reader)\n",
    "            \n",
    "        i = 0\n",
    "        for row in reader:\n",
    "            i += 1\n",
    "            y.append(int(row['click']))\n",
    "            del row['click'], row['id'], row['hour'], row['device_id'], row['device_ip']\n",
    "            X_dict.append(dict(row))\n",
    "            \n",
    "            if i >= n:\n",
    "                break\n",
    "                \n",
    "    return X_dict, y"
   ]
  },
  {
   "cell_type": "markdown",
   "metadata": {},
   "source": [
    "### Cargamos los CSV y hacemos la division de datos en test y train"
   ]
  },
  {
   "cell_type": "code",
   "execution_count": 2,
   "metadata": {
    "colab": {
     "base_uri": "https://localhost:8080/",
     "height": 221
    },
    "colab_type": "code",
    "executionInfo": {
     "elapsed": 23332,
     "status": "ok",
     "timestamp": 1557076088010,
     "user": {
      "displayName": "Keshava Sanchez",
      "photoUrl": "https://lh5.googleusercontent.com/-vJZHCo9rA1Y/AAAAAAAAAAI/AAAAAAAAAHs/Bv4Hi4uw7dY/s64/photo.jpg",
      "userId": "16086633882778360731"
     },
     "user_tz": 300
    },
    "id": "TzQ3osa9r3I9",
    "outputId": "1f45bbba-f692-42e5-fc81-2d05e12a512f"
   },
   "outputs": [
    {
     "name": "stdout",
     "output_type": "stream",
     "text": [
      "{'C1': '1005', 'banner_pos': '0', 'site_id': '1fbe01fe', 'site_domain': 'f3845767', 'site_category': '28905ebd', 'app_id': 'ecad2386', 'app_domain': '7801e8d9', 'app_category': '07d7df22', 'device_model': '44956a24', 'device_type': '1', 'device_conn_type': '2', 'C14': '15706', 'C15': '320', 'C16': '50', 'C17': '1722', 'C18': '0', 'C19': '35', 'C20': '-1', 'C21': '79'}\n",
      "{'C1': '1005', 'banner_pos': '0', 'site_id': '1fbe01fe', 'site_domain': 'f3845767', 'site_category': '28905ebd', 'app_id': 'ecad2386', 'app_domain': '7801e8d9', 'app_category': '07d7df22', 'device_model': '711ee120', 'device_type': '1', 'device_conn_type': '0', 'C14': '15704', 'C15': '320', 'C16': '50', 'C17': '1722', 'C18': '0', 'C19': '35', 'C20': '100084', 'C21': '79'}\n",
      "\n",
      "{'C1': '1005', 'banner_pos': '0', 'site_id': '85f751fd', 'site_domain': 'c4e18dd6', 'site_category': '50e219e0', 'app_id': '8dbc921a', 'app_domain': 'd9b5648e', 'app_category': '0f2161f8', 'device_model': 'f4fffcd0', 'device_type': '1', 'device_conn_type': '0', 'C14': '20508', 'C15': '320', 'C16': '50', 'C17': '2351', 'C18': '3', 'C19': '163', 'C20': '-1', 'C21': '61'}\n",
      "{'C1': '1005', 'banner_pos': '0', 'site_id': '543a539e', 'site_domain': 'c7ca3108', 'site_category': '3e814130', 'app_id': 'ecad2386', 'app_domain': '7801e8d9', 'app_category': '07d7df22', 'device_model': 'd787e91b', 'device_type': '1', 'device_conn_type': '0', 'C14': '20366', 'C15': '320', 'C16': '50', 'C17': '2333', 'C18': '0', 'C19': '39', 'C20': '-1', 'C21': '157'}\n"
     ]
    }
   ],
   "source": [
    "n_max = 100000 # can be up to 100,000 instances (but requieres A LOT of memory to process)\n",
    "X_dict_train, y_train = read_ad_click_data('train_ctr.csv', n_max)\n",
    "X_dict_test, y_test = read_ad_click_data('test_ctr.csv', n_max)\n",
    "\n",
    "print(X_dict_train[0])\n",
    "print(X_dict_train[1])\n",
    "print()\n",
    "print(X_dict_test[0])\n",
    "print(X_dict_test[1])"
   ]
  },
  {
   "cell_type": "markdown",
   "metadata": {},
   "source": [
    "### Verificamos que se haya cargado la cantidad correcta de datos"
   ]
  },
  {
   "cell_type": "code",
   "execution_count": 3,
   "metadata": {
    "colab": {
     "base_uri": "https://localhost:8080/",
     "height": 35
    },
    "colab_type": "code",
    "executionInfo": {
     "elapsed": 407,
     "status": "ok",
     "timestamp": 1557076099454,
     "user": {
      "displayName": "Keshava Sanchez",
      "photoUrl": "https://lh5.googleusercontent.com/-vJZHCo9rA1Y/AAAAAAAAAAI/AAAAAAAAAHs/Bv4Hi4uw7dY/s64/photo.jpg",
      "userId": "16086633882778360731"
     },
     "user_tz": 300
    },
    "id": "w5gVW9xvr3JF",
    "outputId": "45b276b5-dfa6-49c2-8e20-09bb0cac6ee3"
   },
   "outputs": [
    {
     "name": "stdout",
     "output_type": "stream",
     "text": [
      "100000 19\n",
      "100000 19\n"
     ]
    }
   ],
   "source": [
    "print(len(X_dict_train), len(X_dict_train[0]))\n",
    "print(len(X_dict_test), len(X_dict_test[0]))"
   ]
  },
  {
   "cell_type": "markdown",
   "metadata": {
    "colab_type": "text",
    "id": "GSaUXtRZr3JL"
   },
   "source": [
    "### Realizamos el *one hot encoding* de los datos haciendo uso de  *DictVectorizer*"
   ]
  },
  {
   "cell_type": "code",
   "execution_count": 4,
   "metadata": {
    "colab": {},
    "colab_type": "code",
    "id": "X3dceF91r3JN"
   },
   "outputs": [],
   "source": [
    "from sklearn.feature_extraction import DictVectorizer\n",
    "\n",
    "dict_one_hot_encoder = DictVectorizer(sparse=False)\n",
    "X_train = dict_one_hot_encoder.fit_transform(X_dict_train)\n",
    "X_test = dict_one_hot_encoder.transform(X_dict_test)"
   ]
  },
  {
   "cell_type": "markdown",
   "metadata": {},
   "source": [
    "### Verificamos que la cantidad de datos de X_train y X_test coincidan posterior al OHE"
   ]
  },
  {
   "cell_type": "code",
   "execution_count": 5,
   "metadata": {
    "colab": {
     "base_uri": "https://localhost:8080/",
     "height": 35
    },
    "colab_type": "code",
    "executionInfo": {
     "elapsed": 353,
     "status": "ok",
     "timestamp": 1557076119555,
     "user": {
      "displayName": "Keshava Sanchez",
      "photoUrl": "https://lh5.googleusercontent.com/-vJZHCo9rA1Y/AAAAAAAAAAI/AAAAAAAAAHs/Bv4Hi4uw7dY/s64/photo.jpg",
      "userId": "16086633882778360731"
     },
     "user_tz": 300
    },
    "id": "B18T_r0Ir3JR",
    "outputId": "3a96ecb2-4b85-4fe3-cc5f-286a7ba517e9"
   },
   "outputs": [
    {
     "name": "stdout",
     "output_type": "stream",
     "text": [
      "5725\n",
      "5725\n"
     ]
    }
   ],
   "source": [
    "print(len(X_train[0]))\n",
    "print(len(X_test[0]))"
   ]
  },
  {
   "cell_type": "markdown",
   "metadata": {},
   "source": [
    "### Hacemos uso de Lasso para eliminar los atributos no necesarios, asi reduciendo el tiempo de ejecución y la cantidad de memoria que se consume"
   ]
  },
  {
   "cell_type": "code",
   "execution_count": 6,
   "metadata": {
    "colab": {
     "base_uri": "https://localhost:8080/",
     "height": 54
    },
    "colab_type": "code",
    "executionInfo": {
     "elapsed": 99626,
     "status": "ok",
     "timestamp": 1557076463978,
     "user": {
      "displayName": "Keshava Sanchez",
      "photoUrl": "https://lh5.googleusercontent.com/-vJZHCo9rA1Y/AAAAAAAAAAI/AAAAAAAAAHs/Bv4Hi4uw7dY/s64/photo.jpg",
      "userId": "16086633882778360731"
     },
     "user_tz": 300
    },
    "id": "rwcjvxza-LEV",
    "outputId": "cffd87a6-6046-4eb9-a0b4-f5870b08d042"
   },
   "outputs": [
    {
     "name": "stdout",
     "output_type": "stream",
     "text": [
      "5725\n",
      "5497 228\n"
     ]
    }
   ],
   "source": [
    "from sklearn import linear_model\n",
    "las = linear_model.Lasso(alpha = 0.0001)\n",
    "las.fit(X_train, y_train)\n",
    "coeficientes = las.coef_\n",
    "print(len(coeficientes))\n",
    "dropear=[]\n",
    "mantener=[]\n",
    "for i in range(len(coeficientes)):\n",
    "  if coeficientes[i]==0: \n",
    "    dropear.append(i)\n",
    "  else:\n",
    "    mantener.append(i)\n",
    "print(len(dropear), len(mantener))\n"
   ]
  },
  {
   "cell_type": "markdown",
   "metadata": {},
   "source": [
    "### Importamos la utileria necesaria para llevar a cabo GridSearchCV para encontrar los mejores parametros para nuestro RandomForest e importamos la utileria necesaria para evaluarl con roc_auc_score"
   ]
  },
  {
   "cell_type": "code",
   "execution_count": 7,
   "metadata": {
    "colab": {
     "base_uri": "https://localhost:8080/",
     "height": 35
    },
    "colab_type": "code",
    "executionInfo": {
     "elapsed": 388,
     "status": "ok",
     "timestamp": 1557081588845,
     "user": {
      "displayName": "Keshava Sanchez",
      "photoUrl": "https://lh5.googleusercontent.com/-vJZHCo9rA1Y/AAAAAAAAAAI/AAAAAAAAAHs/Bv4Hi4uw7dY/s64/photo.jpg",
      "userId": "16086633882778360731"
     },
     "user_tz": 300
    },
    "id": "RFf-t_PPr3KG",
    "outputId": "f4078460-fa2b-47da-c0f0-f0f8595b1c1c"
   },
   "outputs": [],
   "source": [
    "from sklearn.metrics import roc_auc_score\n",
    "from sklearn.model_selection import GridSearchCV"
   ]
  },
  {
   "cell_type": "markdown",
   "metadata": {
    "colab_type": "text",
    "id": "pQ-cWklIFLSz"
   },
   "source": [
    "### Generamos nuestro Random Forest, haciendo uso de GridSearch probamos con 5 folds multiples parametros para \"n_estimators\", \"max_depth\" y \"min_samples_split\"\n",
    "\n",
    "### Posteriormente haciendo uso de los parametros lasso que si queremos mantener, hacemos fit con solo ellos y obtenemos los mejores parametros"
   ]
  },
  {
   "cell_type": "code",
   "execution_count": 8,
   "metadata": {
    "colab": {
     "base_uri": "https://localhost:8080/",
     "height": 403
    },
    "colab_type": "code",
    "executionInfo": {
     "elapsed": 3695053,
     "status": "ok",
     "timestamp": 1557081285804,
     "user": {
      "displayName": "Keshava Sanchez",
      "photoUrl": "https://lh5.googleusercontent.com/-vJZHCo9rA1Y/AAAAAAAAAAI/AAAAAAAAAHs/Bv4Hi4uw7dY/s64/photo.jpg",
      "userId": "16086633882778360731"
     },
     "user_tz": 300
    },
    "id": "u2Z5MHqTALNS",
    "outputId": "40a47c74-cde4-4292-e521-98db76fb7c15"
   },
   "outputs": [
    {
     "name": "stdout",
     "output_type": "stream",
     "text": [
      "Fitting 5 folds for each of 1296 candidates, totalling 6480 fits\n"
     ]
    },
    {
     "name": "stderr",
     "output_type": "stream",
     "text": [
      "[Parallel(n_jobs=-1)]: Using backend LokyBackend with 12 concurrent workers.\n",
      "[Parallel(n_jobs=-1)]: Done  17 tasks      | elapsed:   13.2s\n",
      "[Parallel(n_jobs=-1)]: Done 138 tasks      | elapsed:  1.6min\n",
      "[Parallel(n_jobs=-1)]: Done 341 tasks      | elapsed:  3.7min\n",
      "[Parallel(n_jobs=-1)]: Done 624 tasks      | elapsed:  6.7min\n",
      "[Parallel(n_jobs=-1)]: Done 989 tasks      | elapsed: 10.6min\n",
      "[Parallel(n_jobs=-1)]: Done 1434 tasks      | elapsed: 17.3min\n",
      "[Parallel(n_jobs=-1)]: Done 1961 tasks      | elapsed: 25.8min\n",
      "[Parallel(n_jobs=-1)]: Done 2568 tasks      | elapsed: 37.9min\n",
      "[Parallel(n_jobs=-1)]: Done 3257 tasks      | elapsed: 52.9min\n",
      "[Parallel(n_jobs=-1)]: Done 4026 tasks      | elapsed: 73.9min\n",
      "[Parallel(n_jobs=-1)]: Done 4877 tasks      | elapsed: 99.9min\n",
      "[Parallel(n_jobs=-1)]: Done 5808 tasks      | elapsed: 132.2min\n",
      "[Parallel(n_jobs=-1)]: Done 6480 out of 6480 | elapsed: 157.4min finished\n"
     ]
    },
    {
     "data": {
      "text/plain": [
       "GridSearchCV(cv=5, error_score='raise-deprecating',\n",
       "       estimator=RandomForestClassifier(bootstrap=True, class_weight=None, criterion='gini',\n",
       "            max_depth=None, max_features='auto', max_leaf_nodes=None,\n",
       "            min_impurity_decrease=0.0, min_impurity_split=None,\n",
       "            min_samples_leaf=1, min_samples_split=2,\n",
       "            min_weight_fraction_leaf=0.0, n_estimators='warn', n_jobs=None,\n",
       "            oob_score=False, random_state=42, verbose=0, warm_start=False),\n",
       "       fit_params=None, iid=True, n_jobs=-1,\n",
       "       param_grid={'n_estimators': [10, 25, 50, 75, 100, 125, 150, 175, 200], 'max_depth': [1, 2, 3, 4, 5, 6], 'min_samples_split': [20, 22, 25, 27, 30, 35, 37, 40], 'min_samples_leaf': [1, 2, 3]},\n",
       "       pre_dispatch='2*n_jobs', refit=True, return_train_score='warn',\n",
       "       scoring='roc_auc', verbose=2)"
      ]
     },
     "execution_count": 8,
     "metadata": {},
     "output_type": "execute_result"
    }
   ],
   "source": [
    "from sklearn.ensemble import RandomForestClassifier\n",
    "parameters = {'n_estimators' : [10, 25, 50, 75, 100, 125, 150, 175, 200], 'max_depth' : [1, 2, 3, 4, 5, 6], 'min_samples_split' : [20, 22, 25, 27, 30, 35, 37, 40], 'min_samples_leaf' : [1, 2 ,3]}\n",
    "random_forest = RandomForestClassifier(criterion = 'gini', min_samples_leaf = 1, random_state = 42)\n",
    "grid_search_r = GridSearchCV(random_forest, parameters, n_jobs = -1, cv = 5, scoring = 'roc_auc', iid = True, verbose = 2)\n",
    "grid_search_r.fit(X_train[:, mantener], y_train)"
   ]
  },
  {
   "cell_type": "markdown",
   "metadata": {},
   "source": [
    "### Una vez conseguidos los mejores parametros, generamos nuestro RandomForest con best_estimator_, y evaluamos el ROC_AUC"
   ]
  },
  {
   "cell_type": "code",
   "execution_count": 9,
   "metadata": {
    "colab": {
     "base_uri": "https://localhost:8080/",
     "height": 35
    },
    "colab_type": "code",
    "executionInfo": {
     "elapsed": 1104,
     "status": "ok",
     "timestamp": 1557081596248,
     "user": {
      "displayName": "Keshava Sanchez",
      "photoUrl": "https://lh5.googleusercontent.com/-vJZHCo9rA1Y/AAAAAAAAAAI/AAAAAAAAAHs/Bv4Hi4uw7dY/s64/photo.jpg",
      "userId": "16086633882778360731"
     },
     "user_tz": 300
    },
    "id": "nbPUqjMxR1vc",
    "outputId": "158fa0ba-0c43-4e2d-c71c-fdf58579be20"
   },
   "outputs": [
    {
     "name": "stdout",
     "output_type": "stream",
     "text": [
      "The ROC AUC on testing set is: 0.712\n"
     ]
    }
   ],
   "source": [
    "random_forest_best = grid_search_r.best_estimator_\n",
    "rf_prob_2 = random_forest_best.predict_proba(X_test[:, mantener])[:, 1]\n",
    "print('The ROC AUC on testing set is: {0:.3f}'.format(roc_auc_score(y_test, rf_prob_2)))"
   ]
  },
  {
   "cell_type": "markdown",
   "metadata": {},
   "source": [
    "### Realizamos una grafica mostrando los parametros mas importantes"
   ]
  },
  {
   "cell_type": "code",
   "execution_count": 35,
   "metadata": {},
   "outputs": [
    {
     "name": "stdout",
     "output_type": "stream",
     "text": [
      "5725\n"
     ]
    },
    {
     "data": {
      "image/png": "[encoded data removed]",
      "text/plain": [
       "<Figure size 432x288 with 1 Axes>"
      ]
     },
     "metadata": {
      "needs_background": "light"
     },
     "output_type": "display_data"
    }
   ],
   "source": [
    "import numpy as np\n",
    "import matplotlib.pyplot as plt\n",
    "import matplotlib as mpl\n",
    "%matplotlib inline\n",
    "\n",
    "feature_names = dict_one_hot_encoder.get_feature_names()\n",
    "print(len(feature_names))\n",
    "\n",
    "feature_names = np.array([' '.join([str(b), a]) for a, b in zip(feature_names, range(len(feature_names)))])\n",
    "\n",
    "importance = np.mean([tree.feature_importances_ for tree in random_forest_best.estimators_], axis = 0)\n",
    "std = np.std([tree.feature_importances_ for tree in random_forest_best.estimators_], axis = 0)\n",
    "\n",
    "indices = np.argsort(importance)\n",
    "range_ = range(len(importance))\n",
    "\n",
    "plt.figure()\n",
    "plt.title(\"Random Forest Importance\")\n",
    "plt.barh(range_, importance[indices], color = \"r\", xerr = std[indices], alpha = 0.4, align = \"center\")\n",
    "plt.yticks(range(len(importance)), feature_names[indices])\n",
    "plt.ylim([-1, len(importance)])\n",
    "plt.xlim([0.0, 0.65])\n",
    "\n",
    "plt.show()"
   ]
  },
  {
   "cell_type": "code",
   "execution_count": null,
   "metadata": {},
   "outputs": [],
   "source": []
  }
 ],
 "metadata": {
  "colab": {
   "collapsed_sections": [],
   "name": "ctr-prediction-bueno.ipynb",
   "provenance": [],
   "version": "0.3.2"
  },
  "kernelspec": {
   "display_name": "Python 3",
   "language": "python",
   "name": "python3"
  },
  "language_info": {
   "codemirror_mode": {
    "name": "ipython",
    "version": 3
   },
   "file_extension": ".py",
   "mimetype": "text/x-python",
   "name": "python",
   "nbconvert_exporter": "python",
   "pygments_lexer": "ipython3",
   "version": "3.7.1"
  }
 },
 "nbformat": 4,
 "nbformat_minor": 2
}
